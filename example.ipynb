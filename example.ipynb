{
 "cells": [
  {
   "cell_type": "code",
   "execution_count": 1,
   "id": "b311b349",
   "metadata": {},
   "outputs": [
    {
     "name": "stdout",
     "output_type": "stream",
     "text": [
      "pandas:  2.0.0rc0\n",
      "numpy:  1.24.2\n",
      "polars:  0.16.14\n",
      "pyarrow:  11.0.0\n"
     ]
    }
   ],
   "source": [
    "import pandas as pd\n",
    "import numpy as np\n",
    "import polars as pl\n",
    "import pyarrow as pa\n",
    "print(\"pandas: \", pd.__version__)\n",
    "print(\"numpy: \", np.__version__)\n",
    "print(\"polars: \", pl.__version__)\n",
    "print(\"pyarrow: \", pa.__version__)"
   ]
  },
  {
   "cell_type": "code",
   "execution_count": 2,
   "id": "61801b49",
   "metadata": {},
   "outputs": [
    {
     "data": {
      "text/plain": [
       "0       foo\n",
       "1       bar\n",
       "2    foobar\n",
       "dtype: object"
      ]
     },
     "execution_count": 2,
     "metadata": {},
     "output_type": "execute_result"
    }
   ],
   "source": [
    "pd.Series([\"foo\", \"bar\", \"foobar\"])"
   ]
  },
  {
   "cell_type": "code",
   "execution_count": 3,
   "id": "f410d2b4",
   "metadata": {},
   "outputs": [
    {
     "name": "stdout",
     "output_type": "stream",
     "text": [
      "group\n",
      "A     9\n",
      "B    12\n",
      "dtype: int64\n",
      "CPU times: user 3.93 ms, sys: 387 µs, total: 4.32 ms\n",
      "Wall time: 26.4 ms\n"
     ]
    }
   ],
   "source": [
    "%%time\n",
    "# Create a DataFrame with some example data\n",
    "data = {\n",
    "    'group': ['A', 'B', 'A', 'B', 'A', 'B'],\n",
    "    'value': [1, 2, 3, 4, 5, 6]\n",
    "}\n",
    "df = pd.DataFrame(data)\n",
    "\n",
    "# Define a function to apply to each group\n",
    "def sum_values(group):\n",
    "    return group['value'].sum()\n",
    "\n",
    "# Use groupby-apply to apply the function to each group\n",
    "result = df.groupby('group').apply(sum_values)\n",
    "\n",
    "# Print the result\n",
    "print(result)\n"
   ]
  },
  {
   "cell_type": "code",
   "execution_count": 4,
   "id": "4627ad65",
   "metadata": {},
   "outputs": [
    {
     "name": "stdout",
     "output_type": "stream",
     "text": [
      "group\n",
      "A     9\n",
      "B    12\n",
      "dtype: int64\n",
      "CPU times: user 1.22 ms, sys: 2.68 ms, total: 3.9 ms\n",
      "Wall time: 4.71 ms\n"
     ]
    }
   ],
   "source": [
    "%%time\n",
    "\n",
    "# Set Pyarrow as the backend for Pandas\n",
    "pd.set_option('compute.use_bottleneck', False)\n",
    "pd.set_option('compute.use_numexpr', False)\n",
    "# pd.set_option('compute.use_pyarrow', True)\n",
    "# pd.set_option('io.parquet.use_pyarrow', True)\n",
    "pd.options.mode.dtype_backend = \"pyarrow\"\n",
    "\n",
    "# Create a Pandas DataFrame with some example data\n",
    "data = {\n",
    "    'group': ['A', 'B', 'A', 'B', 'A', 'B'],\n",
    "    'value': [1, 2, 3, 4, 5, 6]\n",
    "}\n",
    "df = pd.DataFrame(data)\n",
    "# df = pd.DataFrame(data, dtype=[\"string[pyarrow]\",])\n",
    "\n",
    "# Define a function to apply to each group\n",
    "def sum_values(group):\n",
    "    return group['value'].sum()\n",
    "\n",
    "# Use groupby-apply to apply the function to each group\n",
    "result = df.groupby('group').apply(sum_values)\n",
    "\n",
    "# Print the result\n",
    "print(result)\n"
   ]
  },
  {
   "cell_type": "code",
   "execution_count": 5,
   "id": "2b95588c",
   "metadata": {},
   "outputs": [
    {
     "name": "stdout",
     "output_type": "stream",
     "text": [
      "<class 'pandas.core.frame.DataFrame'>\n",
      "RangeIndex: 6 entries, 0 to 5\n",
      "Data columns (total 2 columns):\n",
      " #   Column  Non-Null Count  Dtype \n",
      "---  ------  --------------  ----- \n",
      " 0   group   6 non-null      object\n",
      " 1   value   6 non-null      int64 \n",
      "dtypes: int64(1), object(1)\n",
      "memory usage: 224.0+ bytes\n"
     ]
    }
   ],
   "source": [
    "df.info()"
   ]
  },
  {
   "cell_type": "code",
   "execution_count": 6,
   "id": "caf21a4e",
   "metadata": {},
   "outputs": [
    {
     "data": {
      "text/html": [
       "<div><style>\n",
       ".dataframe > thead > tr > th,\n",
       ".dataframe > tbody > tr > td {\n",
       "  text-align: right;\n",
       "}\n",
       "</style>\n",
       "<small>shape: (6, 2)</small><table border=\"1\" class=\"dataframe\"><thead><tr><th>group</th><th>value</th></tr><tr><td>str</td><td>i64</td></tr></thead><tbody><tr><td>&quot;A&quot;</td><td>1</td></tr><tr><td>&quot;B&quot;</td><td>2</td></tr><tr><td>&quot;A&quot;</td><td>3</td></tr><tr><td>&quot;B&quot;</td><td>4</td></tr><tr><td>&quot;A&quot;</td><td>5</td></tr><tr><td>&quot;B&quot;</td><td>6</td></tr></tbody></table></div>"
      ],
      "text/plain": [
       "shape: (6, 2)\n",
       "┌───────┬───────┐\n",
       "│ group ┆ value │\n",
       "│ ---   ┆ ---   │\n",
       "│ str   ┆ i64   │\n",
       "╞═══════╪═══════╡\n",
       "│ A     ┆ 1     │\n",
       "│ B     ┆ 2     │\n",
       "│ A     ┆ 3     │\n",
       "│ B     ┆ 4     │\n",
       "│ A     ┆ 5     │\n",
       "│ B     ┆ 6     │\n",
       "└───────┴───────┘"
      ]
     },
     "execution_count": 6,
     "metadata": {},
     "output_type": "execute_result"
    }
   ],
   "source": [
    "df_polars = pl.from_pandas(df)\n",
    "df_polars"
   ]
  },
  {
   "cell_type": "code",
   "execution_count": null,
   "id": "cd8be939",
   "metadata": {},
   "outputs": [],
   "source": []
  }
 ],
 "metadata": {
  "kernelspec": {
   "display_name": "Python 3 (ipykernel)",
   "language": "python",
   "name": "python3"
  },
  "language_info": {
   "codemirror_mode": {
    "name": "ipython",
    "version": 3
   },
   "file_extension": ".py",
   "mimetype": "text/x-python",
   "name": "python",
   "nbconvert_exporter": "python",
   "pygments_lexer": "ipython3",
   "version": "3.11.0"
  }
 },
 "nbformat": 4,
 "nbformat_minor": 5
}
